{
 "cells": [
  {
   "cell_type": "code",
   "execution_count": null,
   "metadata": {},
   "outputs": [],
   "source": [
    "import os\n",
    "\n",
    "# Get the Desktop path dynamically\n",
    "desktop_path = os.path.join(os.path.expanduser(\"~\"), \"Desktop\")\n",
    "\n",
    "# Create a folder named 'fhv_data' on the Desktop\n",
    "folder_path = os.path.join(desktop_path, \"fhv_data\")\n",
    "os.makedirs(folder_path, exist_ok=True)\n",
    "\n",
    "print(f\"Folder created at: {folder_path}\")\n"
   ]
  },
  {
   "cell_type": "code",
   "execution_count": null,
   "metadata": {},
   "outputs": [],
   "source": [
    "import os\n",
    "import requests\n",
    "\n",
    "# List of all monthly FHV data files\n",
    "base_url = \"url\"  # Replace with the actual URL\n",
    "files = [\n",
    "    f\"fhv_tripdata_2019-{str(month).zfill(2)}.csv.gz\" for month in range(1, 13)\n",
    "]\n",
    "\n",
    "# Directory to store data\n",
    "os.makedirs(\"fhv_data\", exist_ok=True)\n",
    "\n",
    "# Download each file\n",
    "for file in files:\n",
    "    url = base_url + file\n",
    "    response = requests.get(url, stream=True)\n",
    "    \n",
    "    if response.status_code == 200:\n",
    "        with open(f\"fhv_data/{file}\", \"wb\") as f:\n",
    "            for chunk in response.iter_content(chunk_size=1024):\n",
    "                f.write(chunk)\n",
    "        print(f\"Downloaded: {file}\")\n",
    "    else:\n",
    "        print(f\"Failed to download: {file}\")\n"
   ]
  },
  {
   "cell_type": "code",
   "execution_count": null,
   "metadata": {},
   "outputs": [],
   "source": [
    "import gzip\n",
    "import shutil\n",
    "\n",
    "# Extract all files\n",
    "for file in os.listdir(\"fhv_data\"):\n",
    "    if file.endswith(\".gz\"):\n",
    "        with gzip.open(f\"fhv_data/{file}\", \"rb\") as f_in:\n",
    "            with open(f\"fhv_data/{file[:-3]}\", \"wb\") as f_out:  # Remove .gz extension\n",
    "                shutil.copyfileobj(f_in, f_out)\n",
    "        print(f\"Extracted: {file}\")\n",
    "\n"
   ]
  },
  {
   "cell_type": "markdown",
   "metadata": {},
   "source": [
    "gsutil -m cp fhv_data/*.csv.gz gs://ny_taxi_bucket2025/fhv_data/"
   ]
  }
 ],
 "metadata": {
  "kernelspec": {
   "display_name": "Python 3",
   "language": "python",
   "name": "python3"
  },
  "language_info": {
   "codemirror_mode": {
    "name": "ipython",
    "version": 3
   },
   "file_extension": ".py",
   "mimetype": "text/x-python",
   "name": "python",
   "nbconvert_exporter": "python",
   "pygments_lexer": "ipython3",
   "version": "3.12.2"
  }
 },
 "nbformat": 4,
 "nbformat_minor": 2
}
