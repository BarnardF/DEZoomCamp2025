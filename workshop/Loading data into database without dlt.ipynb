{
 "cells": [
  {
   "cell_type": "code",
   "execution_count": 3,
   "metadata": {},
   "outputs": [
    {
     "name": "stdout",
     "output_type": "stream",
     "text": [
      "Data successfully loaded into DuckDB!\n"
     ]
    },
    {
     "data": {
      "text/html": [
       "<div>\n",
       "<style scoped>\n",
       "    .dataframe tbody tr th:only-of-type {\n",
       "        vertical-align: middle;\n",
       "    }\n",
       "\n",
       "    .dataframe tbody tr th {\n",
       "        vertical-align: top;\n",
       "    }\n",
       "\n",
       "    .dataframe thead th {\n",
       "        text-align: right;\n",
       "    }\n",
       "</style>\n",
       "<table border=\"1\" class=\"dataframe\">\n",
       "  <thead>\n",
       "    <tr style=\"text-align: right;\">\n",
       "      <th></th>\n",
       "      <th>record_hash</th>\n",
       "      <th>vendor_name</th>\n",
       "      <th>pickup_time</th>\n",
       "      <th>dropoff_time</th>\n",
       "      <th>start_lon</th>\n",
       "      <th>start_lat</th>\n",
       "      <th>end_lon</th>\n",
       "      <th>end_lat</th>\n",
       "    </tr>\n",
       "  </thead>\n",
       "  <tbody>\n",
       "    <tr>\n",
       "      <th>0</th>\n",
       "      <td>b00361a396177a9cb410ff61f20015ad</td>\n",
       "      <td>VTS</td>\n",
       "      <td>2009-06-14 23:23:00</td>\n",
       "      <td>2009-06-14 23:48:00</td>\n",
       "      <td>-73.787442</td>\n",
       "      <td>40.641525</td>\n",
       "      <td>-73.980072</td>\n",
       "      <td>40.742963</td>\n",
       "    </tr>\n",
       "  </tbody>\n",
       "</table>\n",
       "</div>"
      ],
      "text/plain": [
       "                        record_hash vendor_name         pickup_time  \\\n",
       "0  b00361a396177a9cb410ff61f20015ad         VTS 2009-06-14 23:23:00   \n",
       "\n",
       "         dropoff_time  start_lon  start_lat    end_lon    end_lat  \n",
       "0 2009-06-14 23:48:00 -73.787442  40.641525 -73.980072  40.742963  "
      ]
     },
     "execution_count": 3,
     "metadata": {},
     "output_type": "execute_result"
    }
   ],
   "source": [
    "import duckdb\n",
    "\n",
    "# 1. Create a connection to an in-memory DuckDB database\n",
    "conn = duckdb.connect(\"ny_taxi_manual.db\")\n",
    "\n",
    "# 2. Create the rides Table\n",
    "# Since our dataset has nested structures, we must manually flatten it before inserting data.\n",
    "conn.execute(\"\"\"\n",
    "CREATE TABLE IF NOT EXISTS rides (\n",
    "             record_hash TEXT PRIMARY KEY,\n",
    "             vendor_name TEXT,\n",
    "             pickup_time TIMESTAMP,\n",
    "             dropoff_time TIMESTAMP,\n",
    "             start_lon DOUBLE,\n",
    "             start_lat DOUBLE,\n",
    "             end_lon DOUBLE,\n",
    "             end_lat DOUBLE\n",
    "             );             \n",
    "\"\"\")\n",
    "\n",
    "# 3. Insert Data Manually\n",
    "# Since JSON data has nested fields, we need to extract and transform them before inserting them into DuckDB.\n",
    "data = [\n",
    "    {\n",
    "        \"vendor_name\": \"VTS\",\n",
    "        \"record_hash\": \"b00361a396177a9cb410ff61f20015ad\",\n",
    "        \"time\": {\n",
    "            \"pickup\": \"2009-06-14 23:23:00\",\n",
    "            \"dropoff\": \"2009-06-14 23:48:00\"\n",
    "        },\n",
    "        \"coordinates\": {\n",
    "            \"start\": {\"lon\": -73.787442, \"lat\": 40.641525},\n",
    "            \"end\": {\"lon\": -73.980072, \"lat\": 40.742963}\n",
    "        }\n",
    "    }\n",
    "]\n",
    "\n",
    "# Prepare data for insertion\n",
    "flattened_data = [\n",
    "    (\n",
    "        ride[\"record_hash\"],\n",
    "        ride[\"vendor_name\"],\n",
    "        ride[\"time\"][\"pickup\"],\n",
    "        ride[\"time\"][\"dropoff\"],\n",
    "        ride[\"coordinates\"][\"start\"][\"lon\"],\n",
    "        ride[\"coordinates\"][\"start\"][\"lat\"],\n",
    "        ride[\"coordinates\"][\"end\"][\"lon\"],\n",
    "        ride[\"coordinates\"][\"end\"][\"lat\"]\n",
    "    )\n",
    "    for ride in data\n",
    "]\n",
    "\n",
    "# Insert into DuckDB\n",
    "conn.executemany(\"\"\"\n",
    "INSERT INTO rides (record_hash, vendor_name, pickup_time, dropoff_time, start_lon, start_lat, end_lon, end_lat) VALUES (?,?,?,?,?,?,?,?)\n",
    "\"\"\", flattened_data)\n",
    "\n",
    "print(\"Data successfully loaded into DuckDB!\")\n",
    "\n",
    "# 4. Query Data in DuckDB\n",
    "# Now that the data is loaded, we can query it using DuckDB’s SQL engine.\n",
    "df = conn.execute(\"SELECT * FROM rides\").df()\n",
    "\n",
    "conn.close()\n",
    "df"
   ]
  },
  {
   "cell_type": "code",
   "execution_count": 2,
   "metadata": {},
   "outputs": [
    {
     "data": {
      "text/plain": [
       "<duckdb.duckdb.DuckDBPyConnection at 0x71d7d246b330>"
      ]
     },
     "execution_count": 2,
     "metadata": {},
     "output_type": "execute_result"
    }
   ],
   "source": [
    "conn.execute(\"DELETE FROM rides\")\n"
   ]
  }
 ],
 "metadata": {
  "kernelspec": {
   "display_name": "Python 3",
   "language": "python",
   "name": "python3"
  },
  "language_info": {
   "codemirror_mode": {
    "name": "ipython",
    "version": 3
   },
   "file_extension": ".py",
   "mimetype": "text/x-python",
   "name": "python",
   "nbconvert_exporter": "python",
   "pygments_lexer": "ipython3",
   "version": "3.12.1"
  }
 },
 "nbformat": 4,
 "nbformat_minor": 2
}
